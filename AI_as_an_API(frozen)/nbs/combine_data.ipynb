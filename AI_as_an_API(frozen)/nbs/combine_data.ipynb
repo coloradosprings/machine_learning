{
 "cells": [
  {
   "cell_type": "code",
   "execution_count": 14,
   "metadata": {},
   "outputs": [],
   "source": [
    "SMS_SPAM_DIR = r'C:\\Users\\natsc\\Desktop\\machine_learning\\AI_as_an_API\\datasets\\spam-classifier\\sms-spam'\n",
    "YOUTUBE_SPAM_DIR =  r'C:\\Users\\natsc\\Desktop\\machine_learning\\AI_as_an_API\\datasets\\spam-classifier\\youtube-spam'"
   ]
  },
  {
   "cell_type": "code",
   "execution_count": 8,
   "metadata": {},
   "outputs": [],
   "source": [
    "import os\n",
    "import pandas as pd"
   ]
  },
  {
   "cell_type": "code",
   "execution_count": 11,
   "metadata": {},
   "outputs": [
    {
     "data": {
      "text/html": [
       "<div>\n",
       "<style scoped>\n",
       "    .dataframe tbody tr th:only-of-type {\n",
       "        vertical-align: middle;\n",
       "    }\n",
       "\n",
       "    .dataframe tbody tr th {\n",
       "        vertical-align: top;\n",
       "    }\n",
       "\n",
       "    .dataframe thead th {\n",
       "        text-align: right;\n",
       "    }\n",
       "</style>\n",
       "<table border=\"1\" class=\"dataframe\">\n",
       "  <thead>\n",
       "    <tr style=\"text-align: right;\">\n",
       "      <th></th>\n",
       "      <th>0</th>\n",
       "      <th>1</th>\n",
       "    </tr>\n",
       "  </thead>\n",
       "  <tbody>\n",
       "    <tr>\n",
       "      <th>0</th>\n",
       "      <td>ham</td>\n",
       "      <td>Go until jurong point, crazy.. Available only ...</td>\n",
       "    </tr>\n",
       "    <tr>\n",
       "      <th>1</th>\n",
       "      <td>ham</td>\n",
       "      <td>Ok lar... Joking wif u oni...</td>\n",
       "    </tr>\n",
       "    <tr>\n",
       "      <th>2</th>\n",
       "      <td>spam</td>\n",
       "      <td>Free entry in 2 a wkly comp to win FA Cup fina...</td>\n",
       "    </tr>\n",
       "    <tr>\n",
       "      <th>3</th>\n",
       "      <td>ham</td>\n",
       "      <td>U dun say so early hor... U c already then say...</td>\n",
       "    </tr>\n",
       "    <tr>\n",
       "      <th>4</th>\n",
       "      <td>ham</td>\n",
       "      <td>Nah I don't think he goes to usf, he lives aro...</td>\n",
       "    </tr>\n",
       "  </tbody>\n",
       "</table>\n",
       "</div>"
      ],
      "text/plain": [
       "      0                                                  1\n",
       "0   ham  Go until jurong point, crazy.. Available only ...\n",
       "1   ham                      Ok lar... Joking wif u oni...\n",
       "2  spam  Free entry in 2 a wkly comp to win FA Cup fina...\n",
       "3   ham  U dun say so early hor... U c already then say...\n",
       "4   ham  Nah I don't think he goes to usf, he lives aro..."
      ]
     },
     "execution_count": 11,
     "metadata": {},
     "output_type": "execute_result"
    }
   ],
   "source": [
    "sms_spam_input_path = os.path.join(SMS_SPAM_DIR,'SMSSpamCollection')\n",
    "sms_df = pd.read_csv(sms_spam_input_path, sep='\\t', header=None)\n",
    "sms_df.head()\n"
   ]
  },
  {
   "cell_type": "code",
   "execution_count": 45,
   "metadata": {},
   "outputs": [
    {
     "name": "stdout",
     "output_type": "stream",
     "text": [
      "<bound method NDFrame.head of         0                                                  1 label  \\\n",
      "0     ham  Go until jurong point, crazy.. Available only ...   NaN   \n",
      "1     ham                      Ok lar... Joking wif u oni...   NaN   \n",
      "2    spam  Free entry in 2 a wkly comp to win FA Cup fina...   NaN   \n",
      "3     ham  U dun say so early hor... U c already then say...   NaN   \n",
      "4     ham  Nah I don't think he goes to usf, he lives aro...   NaN   \n",
      "..    ...                                                ...   ...   \n",
      "365   NaN                                                NaN   ham   \n",
      "366   NaN                                                NaN   ham   \n",
      "367   NaN                                                NaN   ham   \n",
      "368   NaN                                                NaN   ham   \n",
      "369   NaN                                                NaN   ham   \n",
      "\n",
      "                                                  text        source  \n",
      "0                                                  NaN           NaN  \n",
      "1                                                  NaN           NaN  \n",
      "2                                                  NaN           NaN  \n",
      "3                                                  NaN           NaN  \n",
      "4                                                  NaN           NaN  \n",
      "..                                                 ...           ...  \n",
      "365  I love this song because we sing it at Camp al...  youtube-spam  \n",
      "366  I love this song for two reasons: 1.it is abou...  youtube-spam  \n",
      "367                                                wow  youtube-spam  \n",
      "368                            Shakira u are so wiredo  youtube-spam  \n",
      "369                         Shakira is the best dancer  youtube-spam  \n",
      "\n",
      "[7528 rows x 5 columns]>\n",
      "<bound method NDFrame.head of     label                                               text        source\n",
      "0    spam  Huh, anyway check out this you[tube] channel: ...  youtube-spam\n",
      "1    spam  Hey guys check out my new channel and our firs...  youtube-spam\n",
      "2    spam             just for test I have to say murdev.com  youtube-spam\n",
      "3    spam   me shaking my sexy ass on my channel enjoy ^_^ ﻿  youtube-spam\n",
      "4    spam            watch?v=vtaRGgvGtWQ   Check this out .﻿  youtube-spam\n",
      "..    ...                                                ...           ...\n",
      "345   ham  How can this have 2 billion views when there's...  youtube-spam\n",
      "346   ham         I don't now why I'm watching this in 2014﻿  youtube-spam\n",
      "347  spam  subscribe to me for call of duty vids and give...  youtube-spam\n",
      "348  spam  hi guys please my android photo editor downloa...  youtube-spam\n",
      "349   ham  The first billion viewed this because they tho...  youtube-spam\n",
      "\n",
      "[350 rows x 3 columns]>\n",
      "<bound method NDFrame.head of     label                                               text        source\n",
      "0    spam  i love this so much. AND also I Generate Free ...  youtube-spam\n",
      "1    spam  http://www.billboard.com/articles/columns/pop-...  youtube-spam\n",
      "2    spam  Hey guys! Please join me in my fight to help a...  youtube-spam\n",
      "3    spam  http://psnboss.com/?ref=2tGgp3pV6L this is the...  youtube-spam\n",
      "4    spam  Hey everyone. Watch this trailer!!!!!!!!  http...  youtube-spam\n",
      "..    ...                                                ...           ...\n",
      "345   ham  This song means so much to me thank you  soooo...  youtube-spam\n",
      "346   ham                                             &lt;3﻿  youtube-spam\n",
      "347  spam  KATY PERRY, I AM THE \"DÉCIO CABELO\", \"DECIO HA...  youtube-spam\n",
      "348   ham  Honestly speaking except taylor swift and adel...  youtube-spam\n",
      "349   ham  who is going to reach the billion first : katy...  youtube-spam\n",
      "\n",
      "[350 rows x 3 columns]>\n",
      "<bound method NDFrame.head of     label                                               text        source\n",
      "0     ham  <a href=\"http://www.youtube.com/watch?v=KQ6zr6...  youtube-spam\n",
      "1     ham                                   wierd but funny﻿  youtube-spam\n",
      "2    spam  Hey guys, I&#39;m a human.<br /><br /><br />Bu...  youtube-spam\n",
      "3     ham       Party Rock....lol...who wants to shuffle!!!﻿  youtube-spam\n",
      "4     ham                                        Party rock﻿  youtube-spam\n",
      "..    ...                                                ...           ...\n",
      "433  spam                   Like this comment for no reason﻿  youtube-spam\n",
      "434   ham                                    love this song﻿  youtube-spam\n",
      "435  spam  this song is awesome. these guys are the best....  youtube-spam\n",
      "436  spam   HOW MANY THUMBS UP FOR LOUIS SAVING THE DAY!?!?﻿  youtube-spam\n",
      "437   ham                                           NICE :3﻿  youtube-spam\n",
      "\n",
      "[438 rows x 3 columns]>\n",
      "<bound method NDFrame.head of     label                                               text        source\n",
      "0    spam          +447935454150 lovely girl talk to me xxx﻿  youtube-spam\n",
      "1     ham    I always end up coming back to this song<br />﻿  youtube-spam\n",
      "2    spam  my sister just received over 6,500 new <a rel=...  youtube-spam\n",
      "3     ham                                              Cool﻿  youtube-spam\n",
      "4    spam                     Hello I&#39;am from Palastine﻿  youtube-spam\n",
      "..    ...                                                ...           ...\n",
      "443  spam           SUBSCRIBE TO MY CHANNEL X PLEASE!. SPARE  youtube-spam\n",
      "444  spam  Check out my videos guy! :) Hope you guys had ...  youtube-spam\n",
      "445  spam  3 yrs ago I had a health scare but thankfully ...  youtube-spam\n",
      "446   ham       Rihanna looks so beautiful with red hair ;)﻿  youtube-spam\n",
      "447   ham  857.482.940 views AWESOME !!!!!!!!!!!!!!!!!!!!...  youtube-spam\n",
      "\n",
      "[448 rows x 3 columns]>\n"
     ]
    }
   ],
   "source": [
    "my_dfs = []\n",
    "for path in glob.glob(os.path.join(YOUTUBE_SPAM_DIR,'*.csv')):\n",
    "    print(df.head)\n",
    "    raw_df = pd.read_csv(path)\n",
    "    raw_df.rename(columns={\"CLASS\": 'raw_label', \"CONTENT\" : \"text\"}, inplace= True)\n",
    "    raw_df['label'] = raw_df['raw_label'].apply(lambda x: \"spam\" if str(x) == \"1\" else \"ham\")\n",
    "    raw_df['source'] = 'youtube-spam'\n",
    "    df = raw_df.copy()[['label','text', 'source']]\n",
    "    my_dfs.append(df)\n",
    "yt_df = pd.concat(my_dfs)"
   ]
  },
  {
   "cell_type": "code",
   "execution_count": 17,
   "metadata": {},
   "outputs": [],
   "source": [
    "import glob"
   ]
  },
  {
   "cell_type": "code",
   "execution_count": 37,
   "metadata": {},
   "outputs": [
    {
     "data": {
      "text/html": [
       "<div>\n",
       "<style scoped>\n",
       "    .dataframe tbody tr th:only-of-type {\n",
       "        vertical-align: middle;\n",
       "    }\n",
       "\n",
       "    .dataframe tbody tr th {\n",
       "        vertical-align: top;\n",
       "    }\n",
       "\n",
       "    .dataframe thead th {\n",
       "        text-align: right;\n",
       "    }\n",
       "</style>\n",
       "<table border=\"1\" class=\"dataframe\">\n",
       "  <thead>\n",
       "    <tr style=\"text-align: right;\">\n",
       "      <th></th>\n",
       "      <th>label</th>\n",
       "      <th>text</th>\n",
       "      <th>source</th>\n",
       "    </tr>\n",
       "  </thead>\n",
       "  <tbody>\n",
       "    <tr>\n",
       "      <th>0</th>\n",
       "      <td>spam</td>\n",
       "      <td>Huh, anyway check out this you[tube] channel: ...</td>\n",
       "      <td>youtube-spam</td>\n",
       "    </tr>\n",
       "    <tr>\n",
       "      <th>1</th>\n",
       "      <td>spam</td>\n",
       "      <td>Hey guys check out my new channel and our firs...</td>\n",
       "      <td>youtube-spam</td>\n",
       "    </tr>\n",
       "    <tr>\n",
       "      <th>2</th>\n",
       "      <td>spam</td>\n",
       "      <td>just for test I have to say murdev.com</td>\n",
       "      <td>youtube-spam</td>\n",
       "    </tr>\n",
       "    <tr>\n",
       "      <th>3</th>\n",
       "      <td>spam</td>\n",
       "      <td>me shaking my sexy ass on my channel enjoy ^_^ ﻿</td>\n",
       "      <td>youtube-spam</td>\n",
       "    </tr>\n",
       "    <tr>\n",
       "      <th>4</th>\n",
       "      <td>spam</td>\n",
       "      <td>watch?v=vtaRGgvGtWQ   Check this out .﻿</td>\n",
       "      <td>youtube-spam</td>\n",
       "    </tr>\n",
       "  </tbody>\n",
       "</table>\n",
       "</div>"
      ],
      "text/plain": [
       "  label                                               text        source\n",
       "0  spam  Huh, anyway check out this you[tube] channel: ...  youtube-spam\n",
       "1  spam  Hey guys check out my new channel and our firs...  youtube-spam\n",
       "2  spam             just for test I have to say murdev.com  youtube-spam\n",
       "3  spam   me shaking my sexy ass on my channel enjoy ^_^ ﻿  youtube-spam\n",
       "4  spam            watch?v=vtaRGgvGtWQ   Check this out .﻿  youtube-spam"
      ]
     },
     "execution_count": 37,
     "metadata": {},
     "output_type": "execute_result"
    }
   ],
   "source": [
    "yt_df.head()"
   ]
  },
  {
   "cell_type": "code",
   "execution_count": 42,
   "metadata": {},
   "outputs": [],
   "source": [
    "df = pd.concat([sms_df, yt_df])"
   ]
  },
  {
   "cell_type": "code",
   "execution_count": 46,
   "metadata": {},
   "outputs": [
    {
     "data": {
      "text/html": [
       "<div>\n",
       "<style scoped>\n",
       "    .dataframe tbody tr th:only-of-type {\n",
       "        vertical-align: middle;\n",
       "    }\n",
       "\n",
       "    .dataframe tbody tr th {\n",
       "        vertical-align: top;\n",
       "    }\n",
       "\n",
       "    .dataframe thead th {\n",
       "        text-align: right;\n",
       "    }\n",
       "</style>\n",
       "<table border=\"1\" class=\"dataframe\">\n",
       "  <thead>\n",
       "    <tr style=\"text-align: right;\">\n",
       "      <th></th>\n",
       "      <th>label</th>\n",
       "      <th>text</th>\n",
       "      <th>source</th>\n",
       "    </tr>\n",
       "  </thead>\n",
       "  <tbody>\n",
       "    <tr>\n",
       "      <th>0</th>\n",
       "      <td>ham</td>\n",
       "      <td>Nice song﻿</td>\n",
       "      <td>youtube-spam</td>\n",
       "    </tr>\n",
       "    <tr>\n",
       "      <th>1</th>\n",
       "      <td>ham</td>\n",
       "      <td>I love song ﻿</td>\n",
       "      <td>youtube-spam</td>\n",
       "    </tr>\n",
       "    <tr>\n",
       "      <th>2</th>\n",
       "      <td>ham</td>\n",
       "      <td>I love song ﻿</td>\n",
       "      <td>youtube-spam</td>\n",
       "    </tr>\n",
       "    <tr>\n",
       "      <th>3</th>\n",
       "      <td>ham</td>\n",
       "      <td>860,000,000 lets make it first female to reach...</td>\n",
       "      <td>youtube-spam</td>\n",
       "    </tr>\n",
       "    <tr>\n",
       "      <th>4</th>\n",
       "      <td>ham</td>\n",
       "      <td>shakira is best for worldcup﻿</td>\n",
       "      <td>youtube-spam</td>\n",
       "    </tr>\n",
       "  </tbody>\n",
       "</table>\n",
       "</div>"
      ],
      "text/plain": [
       "  label                                               text        source\n",
       "0   ham                                         Nice song﻿  youtube-spam\n",
       "1   ham                                      I love song ﻿  youtube-spam\n",
       "2   ham                                      I love song ﻿  youtube-spam\n",
       "3   ham  860,000,000 lets make it first female to reach...  youtube-spam\n",
       "4   ham                      shakira is best for worldcup﻿  youtube-spam"
      ]
     },
     "execution_count": 46,
     "metadata": {},
     "output_type": "execute_result"
    }
   ],
   "source": [
    "df.head(5)"
   ]
  },
  {
   "cell_type": "code",
   "execution_count": 49,
   "metadata": {},
   "outputs": [],
   "source": [
    "import pathlib"
   ]
  },
  {
   "cell_type": "code",
   "execution_count": 75,
   "metadata": {},
   "outputs": [],
   "source": [
    "DATASET_DIR = pathlib.Path().resolve().parent / \"datasets\"\n",
    "EXPORT_DIR = DATASET_DIR / 'export'\n",
    "SPAM_DATASET_PATH = EXPORT_DIR / \"spam-dataset.csv\"\n",
    "EXPORT_DIR.mkdir(exist_ok = True, parents=True)\n"
   ]
  },
  {
   "cell_type": "code",
   "execution_count": 76,
   "metadata": {},
   "outputs": [],
   "source": [
    "df.to_csv(SPAM_DATASET_PATH,index=False)\n"
   ]
  }
 ],
 "metadata": {
  "kernelspec": {
   "display_name": "Python 3.10.2 64-bit",
   "language": "python",
   "name": "python3"
  },
  "language_info": {
   "codemirror_mode": {
    "name": "ipython",
    "version": 3
   },
   "file_extension": ".py",
   "mimetype": "text/x-python",
   "name": "python",
   "nbconvert_exporter": "python",
   "pygments_lexer": "ipython3",
   "version": "3.10.2"
  },
  "orig_nbformat": 4,
  "vscode": {
   "interpreter": {
    "hash": "1c2641756001ea6ce447138a89df8e611a3b26f782a153d65a0ab6bf1cb80700"
   }
  }
 },
 "nbformat": 4,
 "nbformat_minor": 2
}
