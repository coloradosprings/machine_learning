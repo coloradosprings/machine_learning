{
 "cells": [
  {
   "cell_type": "code",
   "execution_count": 3,
   "metadata": {},
   "outputs": [],
   "source": [
    "from keras.datasets import imdb \n",
    "from keras import preprocessing\n",
    "from keras import utils\n",
    "\n",
    "max_features = 1000\n",
    "maxlen = 20\n",
    "\n",
    "(x_train,y_train), (x_test,y_test) = imdb.load_data(num_words=max_features)\n",
    "\n",
    "x_train = utils.pad_sequences(x_train, maxlen=maxlen)\n",
    "x_test = utils.pad_sequences(x_test, maxlen=maxlen)"
   ]
  },
  {
   "cell_type": "code",
   "execution_count": 2,
   "metadata": {},
   "outputs": [],
   "source": [
    "from keras import preprocessing"
   ]
  },
  {
   "cell_type": "code",
   "execution_count": 5,
   "metadata": {},
   "outputs": [
    {
     "name": "stdout",
     "output_type": "stream",
     "text": [
      "Model: \"sequential\"\n",
      "_________________________________________________________________\n",
      " Layer (type)                Output Shape              Param #   \n",
      "=================================================================\n",
      " embedding (Embedding)       (None, 20, 8)             80000     \n",
      "                                                                 \n",
      " flatten (Flatten)           (None, 160)               0         \n",
      "                                                                 \n",
      " dense (Dense)               (None, 1)                 161       \n",
      "                                                                 \n",
      "=================================================================\n",
      "Total params: 80,161\n",
      "Trainable params: 80,161\n",
      "Non-trainable params: 0\n",
      "_________________________________________________________________\n",
      "Epoch 1/10\n",
      "625/625 [==============================] - 1s 1ms/step - loss: 0.6768 - acc: 0.6011 - val_loss: 0.6399 - val_acc: 0.6732\n",
      "Epoch 2/10\n",
      "625/625 [==============================] - 1s 955us/step - loss: 0.5760 - acc: 0.7200 - val_loss: 0.5539 - val_acc: 0.7146\n",
      "Epoch 3/10\n",
      "625/625 [==============================] - 1s 969us/step - loss: 0.5112 - acc: 0.7485 - val_loss: 0.5325 - val_acc: 0.7264\n",
      "Epoch 4/10\n",
      "625/625 [==============================] - 1s 932us/step - loss: 0.4878 - acc: 0.7617 - val_loss: 0.5280 - val_acc: 0.7272\n",
      "Epoch 5/10\n",
      "625/625 [==============================] - 1s 920us/step - loss: 0.4757 - acc: 0.7689 - val_loss: 0.5277 - val_acc: 0.7336\n",
      "Epoch 6/10\n",
      "625/625 [==============================] - 1s 920us/step - loss: 0.4669 - acc: 0.7743 - val_loss: 0.5279 - val_acc: 0.7336\n",
      "Epoch 7/10\n",
      "625/625 [==============================] - 1s 944us/step - loss: 0.4591 - acc: 0.7783 - val_loss: 0.5307 - val_acc: 0.7330\n",
      "Epoch 8/10\n",
      "625/625 [==============================] - 1s 941us/step - loss: 0.4515 - acc: 0.7855 - val_loss: 0.5324 - val_acc: 0.7298\n",
      "Epoch 9/10\n",
      "625/625 [==============================] - 1s 949us/step - loss: 0.4442 - acc: 0.7894 - val_loss: 0.5349 - val_acc: 0.7278\n",
      "Epoch 10/10\n",
      "625/625 [==============================] - 1s 963us/step - loss: 0.4366 - acc: 0.7954 - val_loss: 0.5419 - val_acc: 0.7250\n"
     ]
    }
   ],
   "source": [
    "from keras.models import Sequential\n",
    "from keras.layers import Flatten,Dense\n",
    "from keras.layers import Embedding\n",
    "\n",
    "model = Sequential()\n",
    "model.add(Embedding(10000,8,input_length=maxlen))\n",
    "\n",
    "model.add(Flatten())\n",
    "\n",
    "model.add(Dense(1,activation='sigmoid'))\n",
    "model.compile(optimizer='rmsprop', loss='binary_crossentropy',metrics=['acc'])\n",
    "model.summary()\n",
    "\n",
    "history = model.fit(x_train,y_train,epochs=10,batch_size=32,validation_split=0.2)\n",
    "\n"
   ]
  },
  {
   "cell_type": "code",
   "execution_count": 18,
   "metadata": {},
   "outputs": [],
   "source": [
    "import os\n",
    "\n",
    "imdb_dir = r'C:\\Users\\natsc\\Desktop\\machine_learning\\deeplearningwithpython\\imdb_data\\aclImdb'\n",
    "train_dir = os.path.join(imdb_dir, 'train')\n",
    "\n",
    "labels = []\n",
    "texts = []\n",
    "\n",
    "for label_type in  ['neg','pos']:\n",
    "    dir_name = os.path.join(train_dir,label_type)\n",
    "    for fname in os.listdir(dir_name):\n",
    "        if fname[-4:] == '.txt':\n",
    "            f = open(os.path.join(dir_name,fname),encoding='utf-8')\n",
    "            texts.append(f.read())\n",
    "            f.close()\n",
    "            if label_type == 'neg':\n",
    "                labels.append(0)\n",
    "            else:\n",
    "                labels.append(1)"
   ]
  },
  {
   "cell_type": "code",
   "execution_count": 19,
   "metadata": {},
   "outputs": [
    {
     "name": "stdout",
     "output_type": "stream",
     "text": [
      "Found 88582 unique tokens.\n",
      "Shape of data tensor: (25000, 100)\n",
      "Shape of label tensor: (25000,)\n"
     ]
    }
   ],
   "source": [
    "from keras_preprocessing.text import Tokenizer\n",
    "from keras.utils import pad_sequences\n",
    "import numpy as np\n",
    "\n",
    "maxlen = 100\n",
    "training_samples = 200\n",
    "validation_samples = 10000\n",
    "max_words = 10000\n",
    "\n",
    "tokenizer = Tokenizer(num_words=max_words)\n",
    "tokenizer.fit_on_texts(texts)\n",
    "sequences = tokenizer.texts_to_sequences(texts)\n",
    "word_index = tokenizer.word_index\n",
    "print('Found %s unique tokens.' % len(word_index))\n",
    "\n",
    "data = pad_sequences(sequences, maxlen=maxlen)\n",
    "\n",
    "labels = np.asarray(labels)\n",
    "print('Shape of data tensor:', data.shape)\n",
    "print('Shape of label tensor:', labels.shape)\n",
    "\n",
    "indices = np.arange(data.shape[0])\n",
    "np.random.shuffle(indices)\n",
    "data = data[indices]\n",
    "labels = labels[indices]\n",
    "\n",
    "x_train = data[:training_samples]\n",
    "y_train = labels[:training_samples]\n",
    "x_val = data[training_samples: training_samples + validation_samples]\n",
    "y_val = labels[training_samples: training_samples + validation_samples]"
   ]
  },
  {
   "cell_type": "code",
   "execution_count": 16,
   "metadata": {},
   "outputs": [
    {
     "data": {
      "text/plain": [
       "(0,)"
      ]
     },
     "execution_count": 16,
     "metadata": {},
     "output_type": "execute_result"
    }
   ],
   "source": [
    "labels.shape"
   ]
  },
  {
   "cell_type": "code",
   "execution_count": 34,
   "metadata": {},
   "outputs": [
    {
     "name": "stdout",
     "output_type": "stream",
     "text": [
      "Found 400000 word vectors\n"
     ]
    }
   ],
   "source": [
    "glove_dir = r'C:\\Users\\natsc\\Downloads'\n",
    "\n",
    "embeddings_index = {}\n",
    "\n",
    "f = open(os.path.join(glove_dir, 'glove.6B.100d.txt'),encoding='utf-8')\n",
    "for line in f:\n",
    "    values = line.split()\n",
    "    word = values[0]\n",
    "    coefs = np.asarray(values[1:], dtype='float32')\n",
    "    embeddings_index[word] = coefs\n",
    "f.close()\n",
    "\n",
    "print('Found %s word vectors' % len(embeddings_index))\n"
   ]
  },
  {
   "cell_type": "code",
   "execution_count": 35,
   "metadata": {},
   "outputs": [],
   "source": [
    "embedding_dim = 100\n",
    "\n",
    "embedding_matrix = np.zeros((max_words, embedding_dim))\n",
    "for wordd, i in word_index.items():\n",
    "    if i < max_words:\n",
    "        embedding_vector = embeddings_index.get(word) \n",
    "        if embedding_vector is not None:\n",
    "            embedding_matrix[i] = embedding_vector\n",
    "            \n"
   ]
  },
  {
   "cell_type": "code",
   "execution_count": 61,
   "metadata": {},
   "outputs": [
    {
     "name": "stdout",
     "output_type": "stream",
     "text": [
      "Model: \"sequential_5\"\n",
      "_________________________________________________________________\n",
      " Layer (type)                Output Shape              Param #   \n",
      "=================================================================\n",
      " embedding_5 (Embedding)     (None, 100, 100)          1000000   \n",
      "                                                                 \n",
      " flatten_4 (Flatten)         (None, 10000)             0         \n",
      "                                                                 \n",
      " dense_9 (Dense)             (None, 32)                320032    \n",
      "                                                                 \n",
      " dense_10 (Dense)            (None, 1)                 33        \n",
      "                                                                 \n",
      "=================================================================\n",
      "Total params: 1,320,065\n",
      "Trainable params: 1,320,065\n",
      "Non-trainable params: 0\n",
      "_________________________________________________________________\n"
     ]
    }
   ],
   "source": [
    "from keras.models import Sequential\n",
    "from keras.layers import Embedding, Flatten, Dense\n",
    "\n",
    "model = Sequential([\n",
    "    Embedding(max_words,embedding_dim,input_length=maxlen),\n",
    "    Flatten(),\n",
    "    Dense(32,activation='relu'),\n",
    "    Dense(1,activation='sigmoid'),\n",
    "    ])\n",
    "model.summary()\n"
   ]
  },
  {
   "cell_type": "code",
   "execution_count": 63,
   "metadata": {},
   "outputs": [],
   "source": [
    "model.layers[0].set_weights([embedding_matrix])\n",
    "model.layers[0].trainable = False"
   ]
  },
  {
   "cell_type": "code",
   "execution_count": 64,
   "metadata": {},
   "outputs": [
    {
     "name": "stdout",
     "output_type": "stream",
     "text": [
      "Epoch 1/10\n",
      "7/7 [==============================] - 1s 86ms/step - loss: 2.2895 - acc: 0.4650 - val_loss: 0.6939 - val_acc: 0.4946\n",
      "Epoch 2/10\n",
      "7/7 [==============================] - 0s 71ms/step - loss: 0.6944 - acc: 0.5450 - val_loss: 0.6934 - val_acc: 0.4961\n",
      "Epoch 3/10\n",
      "7/7 [==============================] - 0s 71ms/step - loss: 0.6939 - acc: 0.5350 - val_loss: 0.6994 - val_acc: 0.5002\n",
      "Epoch 4/10\n",
      "7/7 [==============================] - 0s 69ms/step - loss: 0.7030 - acc: 0.5400 - val_loss: 0.6931 - val_acc: 0.5002\n",
      "Epoch 5/10\n",
      "7/7 [==============================] - 0s 72ms/step - loss: 0.6901 - acc: 0.5400 - val_loss: 0.6934 - val_acc: 0.4955\n",
      "Epoch 6/10\n",
      "7/7 [==============================] - 0s 69ms/step - loss: 0.6986 - acc: 0.5400 - val_loss: 0.6932 - val_acc: 0.4965\n",
      "Epoch 7/10\n",
      "7/7 [==============================] - 0s 76ms/step - loss: 0.7087 - acc: 0.5400 - val_loss: 0.6932 - val_acc: 0.4998\n",
      "Epoch 8/10\n",
      "7/7 [==============================] - 0s 74ms/step - loss: 0.6977 - acc: 0.5400 - val_loss: 0.6928 - val_acc: 0.4980\n",
      "Epoch 9/10\n",
      "7/7 [==============================] - 0s 78ms/step - loss: 0.6907 - acc: 0.5400 - val_loss: 0.6940 - val_acc: 0.5002\n",
      "Epoch 10/10\n",
      "7/7 [==============================] - 0s 73ms/step - loss: 0.6913 - acc: 0.5400 - val_loss: 0.6932 - val_acc: 0.5002\n"
     ]
    }
   ],
   "source": [
    "model.compile(optimizer='rmsprop',\n",
    "    loss = 'binary_crossentropy',\n",
    "    metrics=['acc'])\n",
    "history = model.fit(x_train,y_train,\n",
    "                    epochs=10,\n",
    "                    batch_size=32,\n",
    "                    validation_data=(x_val,y_val))\n",
    "model.save_weights('pre_trained_glove_model.h5')"
   ]
  },
  {
   "cell_type": "code",
   "execution_count": 65,
   "metadata": {},
   "outputs": [
    {
     "data": {
      "text/plain": [
       "<Figure size 432x288 with 0 Axes>"
      ]
     },
     "execution_count": 65,
     "metadata": {},
     "output_type": "execute_result"
    },
    {
     "data": {
      "image/png": "[encoded data removed]",
      "text/plain": [
       "<Figure size 432x288 with 1 Axes>"
      ]
     },
     "metadata": {
      "needs_background": "light"
     },
     "output_type": "display_data"
    },
    {
     "data": {
      "image/png": "[encoded data removed]",
      "text/plain": [
       "<Figure size 432x288 with 1 Axes>"
      ]
     },
     "metadata": {
      "needs_background": "light"
     },
     "output_type": "display_data"
    },
    {
     "data": {
      "text/plain": [
       "<Figure size 432x288 with 0 Axes>"
      ]
     },
     "metadata": {},
     "output_type": "display_data"
    }
   ],
   "source": [
    "import matplotlib.pyplot as plt\n",
    "\n",
    "acc = history.history['acc']\n",
    "val_acc = history.history['val_acc']\n",
    "loss = history.history['loss']\n",
    "val_loss = history.history['val_loss']\n",
    "\n",
    "epochs = range(1,len(acc)+1)\n",
    "\n",
    "plt.plot(epochs,acc,'bo',label='Training acc')\n",
    "plt.plot(epochs,val_acc,'b',label = 'Validation acc')\n",
    "plt.title('Training and valdiation accuracy')\n",
    "plt.legend()\n",
    "\n",
    "plt.figure()\n",
    "\n",
    "plt.plot(epochs,loss,'bo',label='Training loss')\n",
    "plt.plot(epochs,val_loss,'b',label = 'Validation loss')\n",
    "plt.title('Training and valdiation loss')\n",
    "plt.legend()\n",
    "\n",
    "plt.figure()"
   ]
  },
  {
   "cell_type": "code",
   "execution_count": 52,
   "metadata": {},
   "outputs": [
    {
     "data": {
      "text/plain": [
       "(10000, 100)"
      ]
     },
     "execution_count": 52,
     "metadata": {},
     "output_type": "execute_result"
    }
   ],
   "source": [
    "embedding_matrix.shape"
   ]
  },
  {
   "cell_type": "markdown",
   "metadata": {},
   "source": [
    "#WTIHOUT PRETRAINED WORD EMBEDDINGS"
   ]
  },
  {
   "cell_type": "code",
   "execution_count": 57,
   "metadata": {},
   "outputs": [
    {
     "name": "stdout",
     "output_type": "stream",
     "text": [
      "Model: \"sequential_4\"\n",
      "_________________________________________________________________\n",
      " Layer (type)                Output Shape              Param #   \n",
      "=================================================================\n",
      " embedding_4 (Embedding)     (None, 100, 100)          1000000   \n",
      "                                                                 \n",
      " flatten_3 (Flatten)         (None, 10000)             0         \n",
      "                                                                 \n",
      " dense_7 (Dense)             (None, 32)                320032    \n",
      "                                                                 \n",
      " dense_8 (Dense)             (None, 1)                 33        \n",
      "                                                                 \n",
      "=================================================================\n",
      "Total params: 1,320,065\n",
      "Trainable params: 1,320,065\n",
      "Non-trainable params: 0\n",
      "_________________________________________________________________\n"
     ]
    }
   ],
   "source": [
    "model = Sequential([\n",
    "    Embedding(max_words, embedding_dim, input_length=maxlen),\n",
    "    Flatten(),\n",
    "    Dense(32, activation='relu'),\n",
    "    Dense(1, activation='sigmoid')\n",
    "])\n",
    "model.summary()"
   ]
  },
  {
   "cell_type": "code",
   "execution_count": 59,
   "metadata": {},
   "outputs": [
    {
     "name": "stdout",
     "output_type": "stream",
     "text": [
      "Epoch 1/10\n",
      "7/7 [==============================] - 1s 80ms/step - loss: 0.6937 - acc: 0.4850 - val_loss: 0.6925 - val_acc: 0.5086\n",
      "Epoch 2/10\n",
      "7/7 [==============================] - 0s 66ms/step - loss: 0.5145 - acc: 0.9800 - val_loss: 0.6927 - val_acc: 0.5178\n",
      "Epoch 3/10\n",
      "7/7 [==============================] - 0s 63ms/step - loss: 0.2950 - acc: 0.9950 - val_loss: 0.6988 - val_acc: 0.5193\n",
      "Epoch 4/10\n",
      "7/7 [==============================] - 0s 65ms/step - loss: 0.1310 - acc: 0.9950 - val_loss: 0.7055 - val_acc: 0.5098\n",
      "Epoch 5/10\n",
      "7/7 [==============================] - 0s 67ms/step - loss: 0.0616 - acc: 1.0000 - val_loss: 0.7125 - val_acc: 0.5255\n",
      "Epoch 6/10\n",
      "7/7 [==============================] - 0s 67ms/step - loss: 0.0326 - acc: 1.0000 - val_loss: 0.7350 - val_acc: 0.5200\n",
      "Epoch 7/10\n",
      "7/7 [==============================] - 0s 65ms/step - loss: 0.0183 - acc: 1.0000 - val_loss: 0.7147 - val_acc: 0.5244\n",
      "Epoch 8/10\n",
      "7/7 [==============================] - 0s 65ms/step - loss: 0.0104 - acc: 1.0000 - val_loss: 0.7303 - val_acc: 0.5279\n",
      "Epoch 9/10\n",
      "7/7 [==============================] - 0s 65ms/step - loss: 0.0063 - acc: 1.0000 - val_loss: 0.7292 - val_acc: 0.5305\n",
      "Epoch 10/10\n",
      "7/7 [==============================] - 0s 67ms/step - loss: 0.0039 - acc: 1.0000 - val_loss: 0.7414 - val_acc: 0.5304\n"
     ]
    }
   ],
   "source": [
    "model.compile(optimizer='rmsprop',loss='binary_crossentropy',metrics=['acc'])\n",
    "history = model.fit(x_train, y_train,\n",
    "                    epochs=10,\n",
    "                    batch_size=32,\n",
    "                    validation_data=(x_val,y_val))"
   ]
  },
  {
   "cell_type": "code",
   "execution_count": 60,
   "metadata": {},
   "outputs": [
    {
     "data": {
      "text/plain": [
       "<Figure size 432x288 with 0 Axes>"
      ]
     },
     "execution_count": 60,
     "metadata": {},
     "output_type": "execute_result"
    },
    {
     "data": {
      "image/png": "[encoded data removed]",
      "text/plain": [
       "<Figure size 432x288 with 1 Axes>"
      ]
     },
     "metadata": {
      "needs_background": "light"
     },
     "output_type": "display_data"
    },
    {
     "data": {
      "image/png": "[encoded data removed]",
      "text/plain": [
       "<Figure size 432x288 with 1 Axes>"
      ]
     },
     "metadata": {
      "needs_background": "light"
     },
     "output_type": "display_data"
    },
    {
     "data": {
      "text/plain": [
       "<Figure size 432x288 with 0 Axes>"
      ]
     },
     "metadata": {},
     "output_type": "display_data"
    }
   ],
   "source": [
    "import matplotlib.pyplot as plt\n",
    "\n",
    "acc = history.history['acc']\n",
    "val_acc = history.history['val_acc']\n",
    "loss = history.history['loss']\n",
    "val_loss = history.history['val_loss']\n",
    "\n",
    "epochs = range(1,len(acc)+1)\n",
    "\n",
    "plt.plot(epochs,acc,'bo',label='Training acc')\n",
    "plt.plot(epochs,val_acc,'b',label = 'Validation acc')\n",
    "plt.title('Training and valdiation accuracy')\n",
    "plt.legend()\n",
    "\n",
    "plt.figure()\n",
    "\n",
    "plt.plot(epochs,loss,'bo',label='Training loss')\n",
    "plt.plot(epochs,val_loss,'b',label = 'Validation loss')\n",
    "plt.title('Training and valdiation loss')\n",
    "plt.legend()\n",
    "\n",
    "plt.figure()"
   ]
  },
  {
   "cell_type": "code",
   "execution_count": 66,
   "metadata": {},
   "outputs": [],
   "source": [
    "#TOKENIZING THE DATA OF THE TESt SET"
   ]
  },
  {
   "cell_type": "code",
   "execution_count": 84,
   "metadata": {},
   "outputs": [],
   "source": [
    "test_dir = os.path.join(imdb_dir,'test')\n",
    "labels=[]\n",
    "texts = []\n",
    "for label_type in ['neg','pos']:\n",
    "    dir_name = os.path.join(test_dir,label_type)\n",
    "    for fname in sorted(os.listdir(dir_name)):\n",
    "        if fname[-4:] == '.txt':\n",
    "            f = open(os.path.join(dir_name, fname),encoding='utf-8')\n",
    "            texts.append(f.read())\n",
    "            f.close\n",
    "            if label_type == 'neg':\n",
    "                labels.append(0)\n",
    "            else:\n",
    "                labels.append(1)\n",
    "    sequences = tokenizer.texts_to_sequences(texts)\n",
    "    x_test = pad_sequences(sequences, maxlen=maxlen)\n",
    "    y_test = np.asarray(labels)"
   ]
  },
  {
   "cell_type": "code",
   "execution_count": 85,
   "metadata": {},
   "outputs": [
    {
     "name": "stdout",
     "output_type": "stream",
     "text": [
      "782/782 [==============================] - 1s 2ms/step - loss: 0.6932 - acc: 0.5000\n"
     ]
    },
    {
     "data": {
      "text/plain": [
       "[0.6931526064872742, 0.5]"
      ]
     },
     "execution_count": 85,
     "metadata": {},
     "output_type": "execute_result"
    }
   ],
   "source": [
    "model.load_weights('pre_trained_glove_model.h5')\n",
    "model.evaluate(x_test,y_test)"
   ]
  },
  {
   "cell_type": "code",
   "execution_count": 82,
   "metadata": {},
   "outputs": [
    {
     "data": {
      "text/plain": [
       "array([], shape=(0, 100), dtype=int32)"
      ]
     },
     "execution_count": 82,
     "metadata": {},
     "output_type": "execute_result"
    }
   ],
   "source": [
    "x_test"
   ]
  },
  {
   "cell_type": "code",
   "execution_count": 83,
   "metadata": {},
   "outputs": [
    {
     "data": {
      "text/plain": [
       "array([], dtype=float64)"
      ]
     },
     "execution_count": 83,
     "metadata": {},
     "output_type": "execute_result"
    }
   ],
   "source": [
    "y_test"
   ]
  },
  {
   "cell_type": "code",
   "execution_count": 79,
   "metadata": {},
   "outputs": [
    {
     "data": {
      "text/plain": [
       "'C:\\\\Users\\\\natsc\\\\Desktop\\\\machine_learning\\\\deeplearningwithpython\\\\imdb_data\\\\aclImdb\\\\test\\\\pos'"
      ]
     },
     "execution_count": 79,
     "metadata": {},
     "output_type": "execute_result"
    }
   ],
   "source": [
    "os.path.join(test_dir,label_type)"
   ]
  },
  {
   "cell_type": "code",
   "execution_count": null,
   "metadata": {},
   "outputs": [],
   "source": []
  }
 ],
 "metadata": {
  "kernelspec": {
   "display_name": "Python 3.10.2 64-bit",
   "language": "python",
   "name": "python3"
  },
  "language_info": {
   "codemirror_mode": {
    "name": "ipython",
    "version": 3
   },
   "file_extension": ".py",
   "mimetype": "text/x-python",
   "name": "python",
   "nbconvert_exporter": "python",
   "pygments_lexer": "ipython3",
   "version": "3.10.2"
  },
  "orig_nbformat": 4,
  "vscode": {
   "interpreter": {
    "hash": "1c2641756001ea6ce447138a89df8e611a3b26f782a153d65a0ab6bf1cb80700"
   }
  }
 },
 "nbformat": 4,
 "nbformat_minor": 2
}
