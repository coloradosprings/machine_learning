{
 "cells": [
  {
   "cell_type": "code",
   "execution_count": 16,
   "metadata": {},
   "outputs": [],
   "source": [
    "import tensorflow as tf\n",
    "tf.compat.v1.disable_eager_execution()\n"
   ]
  },
  {
   "cell_type": "code",
   "execution_count": 17,
   "metadata": {},
   "outputs": [],
   "source": [
    "from keras.utils.image_utils import load_img, img_to_array\n",
    "\n",
    "target_image_path = 'img/beton.jpg'\n",
    "style_reference_image_path = 'img/style.jpg'\n",
    "\n",
    "width, height = load_img(target_image_path).size\n",
    "img_height = 400\n",
    "img_width = int(width * img_height / height)"
   ]
  },
  {
   "cell_type": "code",
   "execution_count": 18,
   "metadata": {},
   "outputs": [],
   "source": [
    "import numpy as np\n",
    "from keras.applications import vgg19\n",
    "\n",
    "def preprocess_image(image_path):\n",
    "    img = load_img(image_path, target_size=(img_height, img_width))\n",
    "    img = img_to_array(img)\n",
    "    img = np.expand_dims(img, axis=0)\n",
    "    img = vgg19.preprocess_input(img)\n",
    "    return img\n",
    "def deprocces_image(x):\n",
    "    x[:, :, 0] += 103.68\n",
    "    x[:, :, 1] += 116.779\n",
    "    x[:, :, 2] += 123.68\n",
    "    x = x[:, :, ::-1]\n",
    "    x = np.clip(x,0,255).astype('uint8')\n",
    "    return x"
   ]
  },
  {
   "cell_type": "code",
   "execution_count": 19,
   "metadata": {},
   "outputs": [
    {
     "name": "stdout",
     "output_type": "stream",
     "text": [
      "Model loaded.\n"
     ]
    }
   ],
   "source": [
    "from keras import backend as K \n",
    "\n",
    "target_image = K.constant(preprocess_image(target_image_path))\n",
    "style_reference_image = K.constant(preprocess_image(style_reference_image_path))\n",
    "combination_image = K.placeholder((1,img_height, img_width, 3))\n",
    "\n",
    "input_tensor = K.concatenate([target_image,style_reference_image,combination_image],axis=0)\n",
    "\n",
    "model = vgg19.VGG19(input_tensor=input_tensor,weights='imagenet',include_top=False)\n",
    "\n",
    "print('Model loaded.')\n",
    "\n",
    "def content_loss(base, combination):\n",
    "    return K.sum(K.square(combination - base))\n"
   ]
  },
  {
   "cell_type": "code",
   "execution_count": 20,
   "metadata": {},
   "outputs": [],
   "source": [
    "def gram_matrix(x):\n",
    "    features = K.batch_flatten(K.permute_dimensions(x,(2,0,1)))\n",
    "    gram = K.dot(features, K.transpose(features))\n",
    "    return gram\n",
    "def style_loss(style, combination):\n",
    "    S = gram_matrix(style)\n",
    "    C = gram_matrix(combination)\n",
    "    print(S-C)\n",
    "    channels = 3\n",
    "    size = img_height * img_width\n",
    "    print(K.sum(K.square(S - C)) / (4. * (channels ** 2) * (size ** 2)))\n",
    "    return (K.sum(K.square(S - C)) / (4. * (channels ** 2) * (size ** 2)))"
   ]
  },
  {
   "cell_type": "code",
   "execution_count": 21,
   "metadata": {},
   "outputs": [],
   "source": [
    "def total_variation_loss(x):\n",
    "    a = K.square(\n",
    "        x[:, :img_height - 1, :img_width -1, :] - \n",
    "        x[:, 1:, :img_width - 1, :]\n",
    "    )\n",
    "    b = K.square(\n",
    "        x[:, :img_height -1, :img_width - 1,:] - \n",
    "        x[:, :img_height -1, 1 :,:]\n",
    "\n",
    "    )\n",
    "\n",
    "    return K.sum(K.pow(a+b, 1.25))"
   ]
  },
  {
   "cell_type": "code",
   "execution_count": 22,
   "metadata": {},
   "outputs": [
    {
     "name": "stdout",
     "output_type": "stream",
     "text": [
      "Tensor(\"sub_1:0\", shape=(64, 64), dtype=float32)\n",
      "Tensor(\"truediv:0\", shape=(), dtype=float32)\n",
      "Tensor(\"sub_4:0\", shape=(128, 128), dtype=float32)\n",
      "Tensor(\"truediv_2:0\", shape=(), dtype=float32)\n",
      "Tensor(\"sub_7:0\", shape=(256, 256), dtype=float32)\n",
      "Tensor(\"truediv_4:0\", shape=(), dtype=float32)\n",
      "Tensor(\"sub_10:0\", shape=(512, 512), dtype=float32)\n",
      "Tensor(\"truediv_6:0\", shape=(), dtype=float32)\n",
      "Tensor(\"sub_13:0\", shape=(512, 512), dtype=float32)\n",
      "Tensor(\"truediv_8:0\", shape=(), dtype=float32)\n"
     ]
    }
   ],
   "source": [
    "outputs_dict = dict([(layer.name, layer.output) for layer in model.layers])\n",
    "content_layer = 'block5_conv2'\n",
    "style_layers = ['block1_conv1',\n",
    "                'block2_conv1',\n",
    "                'block3_conv1',\n",
    "                'block4_conv1',\n",
    "                'block5_conv1']\n",
    "\n",
    "total_variation_weight = 1e-4\n",
    "style_weight = 1.\n",
    "content_weight = 0.025\n",
    "\n",
    "loss = K.variable=(0.)\n",
    "layer_features = outputs_dict[content_layer]\n",
    "target_image_features = layer_features[0, :, :, :]\n",
    "combination_features = layer_features[2, :, :, :]\n",
    "loss += content_weight * content_loss(target_image_features, combination_features)\n",
    "\n",
    "for layer_name in style_layers:\n",
    "    layer_features = outputs_dict[layer_name]\n",
    "    style_reference_features = layer_features[1, :, :, :]\n",
    "    combination_features = layer_features[2, :, :, :]\n",
    "    s1 = style_loss(style_reference_features,combination_features)\n",
    "    loss += (style_weight / len(style_layers)) * s1\n",
    "\n",
    "loss += total_variation_weight * total_variation_loss(combination_image)"
   ]
  },
  {
   "cell_type": "code",
   "execution_count": 23,
   "metadata": {},
   "outputs": [
    {
     "ename": "NameError",
     "evalue": "name 'layers_features' is not defined",
     "output_type": "error",
     "traceback": [
      "\u001b[1;31m---------------------------------------------------------------------------\u001b[0m",
      "\u001b[1;31mNameError\u001b[0m                                 Traceback (most recent call last)",
      "\u001b[1;32mUntitled-1.ipynb Zelle 8\u001b[0m in \u001b[0;36m<cell line: 1>\u001b[1;34m()\u001b[0m\n\u001b[1;32m----> <a href='vscode-notebook-cell:Untitled-1.ipynb?jupyter-notebook#X11sdW50aXRsZWQ%3D?line=0'>1</a>\u001b[0m layers_features\n",
      "\u001b[1;31mNameError\u001b[0m: name 'layers_features' is not defined"
     ]
    }
   ],
   "source": [
    "layers_features"
   ]
  },
  {
   "cell_type": "code",
   "execution_count": 39,
   "metadata": {},
   "outputs": [],
   "source": [
    "grads = K.gradients(loss,combination_image)[0]\n",
    "\n",
    "fetch_loss_and_grads = K.function([combination_image],[loss, grads])\n",
    "\n",
    "class Evaluator(object):\n",
    "\n",
    "    def __init__(self):\n",
    "        self.loss_value = None\n",
    "        self.grads_values = None\n",
    "        \n",
    "    def loss(self, x):\n",
    "        x = x.reshape([1, img_height, img_width, 3])\n",
    "        outs = fetch_loss_and_grads([x])\n",
    "\n",
    "        loss_value = outs[0]\n",
    "        grad_values = outs[1].flatten().astype('float64')\n",
    "        self.loss_value = loss_value\n",
    "        self.grad_values = grad_values\n",
    "        return self.loss_value\n",
    "    \n",
    "    def grads(self, x):\n",
    "        assert self.loss_value is not None\n",
    "        grad_values = np.copy(self.grad_values)\n",
    "        self.loss_values = None\n",
    "        self.grad_values = None\n",
    "        return grad_values\n",
    "\n",
    "evaluator = Evaluator()"
   ]
  },
  {
   "cell_type": "code",
   "execution_count": 40,
   "metadata": {},
   "outputs": [
    {
     "name": "stdout",
     "output_type": "stream",
     "text": [
      "Start of iteration 0\n",
      "Current loss value: 3527421000.0\n",
      "Image saved as: myresult_at_iteration_0.png\n",
      "Iteration 0 completed in 84s\n",
      "Start of iteration 1\n",
      "Current loss value: 1409559600.0\n",
      "Image saved as: myresult_at_iteration_1.png\n",
      "Iteration 1 completed in 81s\n",
      "Start of iteration 2\n",
      "Current loss value: 955101760.0\n",
      "Image saved as: myresult_at_iteration_2.png\n",
      "Iteration 2 completed in 81s\n",
      "Start of iteration 3\n",
      "Current loss value: 749068900.0\n",
      "Image saved as: myresult_at_iteration_3.png\n",
      "Iteration 3 completed in 81s\n",
      "Start of iteration 4\n",
      "Current loss value: 618554700.0\n",
      "Image saved as: myresult_at_iteration_4.png\n",
      "Iteration 4 completed in 81s\n",
      "Start of iteration 5\n",
      "Current loss value: 541268600.0\n",
      "Image saved as: myresult_at_iteration_5.png\n",
      "Iteration 5 completed in 81s\n",
      "Start of iteration 6\n",
      "Current loss value: 450633380.0\n",
      "Image saved as: myresult_at_iteration_6.png\n",
      "Iteration 6 completed in 81s\n",
      "Start of iteration 7\n",
      "Current loss value: 396967650.0\n",
      "Image saved as: myresult_at_iteration_7.png\n",
      "Iteration 7 completed in 81s\n",
      "Start of iteration 8\n",
      "Current loss value: 353774460.0\n",
      "Image saved as: myresult_at_iteration_8.png\n",
      "Iteration 8 completed in 80s\n",
      "Start of iteration 9\n",
      "Current loss value: 322818880.0\n",
      "Image saved as: myresult_at_iteration_9.png\n",
      "Iteration 9 completed in 81s\n",
      "Start of iteration 10\n",
      "Current loss value: 290905400.0\n",
      "Image saved as: myresult_at_iteration_10.png\n",
      "Iteration 10 completed in 77s\n",
      "Start of iteration 11\n",
      "Current loss value: 268581730.0\n",
      "Image saved as: myresult_at_iteration_11.png\n",
      "Iteration 11 completed in 77s\n",
      "Start of iteration 12\n",
      "Current loss value: 246967310.0\n",
      "Image saved as: myresult_at_iteration_12.png\n",
      "Iteration 12 completed in 77s\n",
      "Start of iteration 13\n",
      "Current loss value: 232798830.0\n",
      "Image saved as: myresult_at_iteration_13.png\n",
      "Iteration 13 completed in 77s\n",
      "Start of iteration 14\n",
      "Current loss value: 216333180.0\n",
      "Image saved as: myresult_at_iteration_14.png\n",
      "Iteration 14 completed in 77s\n",
      "Start of iteration 15\n",
      "Current loss value: 205537800.0\n",
      "Image saved as: myresult_at_iteration_15.png\n",
      "Iteration 15 completed in 78s\n",
      "Start of iteration 16\n",
      "Current loss value: 195138740.0\n",
      "Image saved as: myresult_at_iteration_16.png\n",
      "Iteration 16 completed in 79s\n",
      "Start of iteration 17\n",
      "Current loss value: 186410320.0\n",
      "Image saved as: myresult_at_iteration_17.png\n",
      "Iteration 17 completed in 81s\n",
      "Start of iteration 18\n",
      "Current loss value: 179699380.0\n",
      "Image saved as: myresult_at_iteration_18.png\n",
      "Iteration 18 completed in 78s\n",
      "Start of iteration 19\n",
      "Current loss value: 172860910.0\n",
      "Image saved as: myresult_at_iteration_19.png\n",
      "Iteration 19 completed in 77s\n"
     ]
    }
   ],
   "source": [
    "from scipy.optimize import fmin_l_bfgs_b\n",
    "from imageio import imwrite\n",
    "import time\n",
    "\n",
    "result_prefix = 'myresult'\n",
    "iterations = 20\n",
    "\n",
    "x = preprocess_image(target_image_path)\n",
    "x = x.flatten()\n",
    "for i in range(iterations):\n",
    "    print('Start of iteration', i)\n",
    "    start_time = time.time()\n",
    "    x, min_val, info = fmin_l_bfgs_b(evaluator.loss,\n",
    "                                    x,\n",
    "                                    fprime=evaluator.grads,\n",
    "                                    maxfun=20)\n",
    "    print('Current loss value:', min_val)\n",
    "    img = x.copy().reshape((img_height, img_width, 3))\n",
    "    img = deprocces_image(img)\n",
    "    fname = result_prefix + '_at_iteration_%d.png' % i\n",
    "    imwrite(fname, img)\n",
    "    print('Image saved as:', fname)\n",
    "    end_time = time.time()\n",
    "    print('Iteration %d completed in %ds' % (i, end_time - start_time))"
   ]
  },
  {
   "cell_type": "code",
   "execution_count": null,
   "metadata": {},
   "outputs": [
    {
     "data": {
      "text/plain": [
       "<tf.Tensor 'Const:0' shape=(1, 400, 633, 3) dtype=float32>"
      ]
     },
     "execution_count": 30,
     "metadata": {},
     "output_type": "execute_result"
    }
   ],
   "source": [
    "target_image"
   ]
  },
  {
   "cell_type": "code",
   "execution_count": null,
   "metadata": {},
   "outputs": [],
   "source": []
  },
  {
   "cell_type": "code",
   "execution_count": null,
   "metadata": {},
   "outputs": [],
   "source": []
  }
 ],
 "metadata": {
  "kernelspec": {
   "display_name": "Python 3.10.2 64-bit",
   "language": "python",
   "name": "python3"
  },
  "language_info": {
   "codemirror_mode": {
    "name": "ipython",
    "version": 3
   },
   "file_extension": ".py",
   "mimetype": "text/x-python",
   "name": "python",
   "nbconvert_exporter": "python",
   "pygments_lexer": "ipython3",
   "version": "3.10.2"
  },
  "orig_nbformat": 4,
  "vscode": {
   "interpreter": {
    "hash": "1c2641756001ea6ce447138a89df8e611a3b26f782a153d65a0ab6bf1cb80700"
   }
  }
 },
 "nbformat": 4,
 "nbformat_minor": 2
}
