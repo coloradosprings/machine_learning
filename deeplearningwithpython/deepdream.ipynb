{
 "cells": [
  {
   "cell_type": "code",
   "execution_count": 20,
   "metadata": {},
   "outputs": [
    {
     "name": "stderr",
     "output_type": "stream",
     "text": [
      "c:\\Users\\natsc\\AppData\\Local\\Programs\\Python\\Python310\\lib\\site-packages\\keras\\backend.py:450: UserWarning: `tf.keras.backend.set_learning_phase` is deprecated and will be removed after 2020-10-11. To update it, simply pass a True/False value to the `training` argument of the `__call__` method of your layer or model.\n",
      "  warnings.warn('`tf.keras.backend.set_learning_phase` is deprecated and '\n"
     ]
    }
   ],
   "source": [
    "from keras.applications import inception_v3\n",
    "import keras.backend as K\n",
    "import tensorflow as tf\n",
    "tf.compat.v1.disable_eager_execution()\n",
    "\n",
    "K.set_learning_phase(0)\n",
    "model = inception_v3.InceptionV3(weights='imagenet',include_top= False)"
   ]
  },
  {
   "cell_type": "code",
   "execution_count": 21,
   "metadata": {},
   "outputs": [],
   "source": [
    "layers_contributions = {\n",
    "    'mixed2' : 0.2,\n",
    "    'mixed3' : 3.,\n",
    "    'mixed4' : 2.,\n",
    "    'mixed5' : 1.5,}"
   ]
  },
  {
   "cell_type": "code",
   "execution_count": 22,
   "metadata": {},
   "outputs": [],
   "source": [
    "layer_dict = dict([(layer.name, layer) for layer in model.layers])\n",
    "\n",
    "loss = K.variable(0.)\n",
    "for layer_name in layers_contributions:\n",
    "    coeff = layers_contributions[layer_name]\n",
    "    activation = layer_dict[layer_name].output\n",
    "\n",
    "    scaling = K.prod(K.cast(K.shape(activation), 'float32'))\n",
    "    loss = loss + coeff * K.sum(K.square(activation[:, 2: -2, 2: -2, :1])) / scaling\n"
   ]
  },
  {
   "cell_type": "code",
   "execution_count": 39,
   "metadata": {},
   "outputs": [],
   "source": [
    "import numpy as np"
   ]
  },
  {
   "cell_type": "code",
   "execution_count": 26,
   "metadata": {},
   "outputs": [],
   "source": [
    "dream = model.input\n",
    "grads = K.gradients(loss, dream)[0]\n",
    "grads /= K.maximum(K.mean(K.abs(grads)), 1e-7)\n",
    "outputs = [loss,grads]\n",
    "fetch_loss_and_grads = K.function([dream], outputs)\n",
    "\n",
    "def eval_loss_and_grads(x):\n",
    "    outs = fetch_loss_and_grads([x])\n",
    "    loss_value = outs[0]\n",
    "    grad_value = outs[1]\n",
    "    return loss_value, grad_value\n",
    "\n",
    "def gradient_ascent(x, iterations,step,max_loss=None):\n",
    "    for i in range(iterations):\n",
    "        loss_value, grad_values = eval_loss_and_grads(x)\n",
    "        if max_loss is not None and loss_value > max_loss:\n",
    "            break\n",
    "        print('...Loss value at',i,':',loss_value)\n",
    "        x += step * grad_values\n",
    "    return x "
   ]
  },
  {
   "cell_type": "code",
   "execution_count": 67,
   "metadata": {},
   "outputs": [],
   "source": [
    "import keras\n",
    "import imageio"
   ]
  },
  {
   "cell_type": "code",
   "execution_count": 68,
   "metadata": {},
   "outputs": [],
   "source": [
    "import scipy\n",
    "from keras.preprocessing.image import image_utils \n",
    "\n",
    "def resize_img(img, size):\n",
    "    img = np.copy(img)\n",
    "    factor = (1,\n",
    "            float(size[0]) / img.shape[1],\n",
    "            float(size[1]) / img.shape[2],\n",
    "            1)\n",
    "    return scipy.ndimage.zoom(img, factor, order=1)\n",
    "\n",
    "def save_img(img, fname):\n",
    "    pil_img = deprocess_image(np.copy(img))\n",
    "    imageio.imwrite(fname,pil_img)\n",
    "\n",
    "def preproccess_image(image_path):\n",
    "    img = image_utils.load_img(image_path)\n",
    "    img = image_utils.img_to_array(img)\n",
    "    img = np.expand_dims(img, axis=  0)\n",
    "    img = inception_v3.preprocess_input(img)\n",
    "    return img\n",
    "def deprocess_image(x):\n",
    "    if K.image_data_format() == 'channel_first':\n",
    "        x = x.reshape((3, x.shape[2], x.shape[3]))\n",
    "        x = x.transpose((1,2,0))\n",
    "    else:\n",
    "        x = x.reshape((x.shape[1], x.shape[2],3))\n",
    "    x /= 2,\n",
    "    x += 0.5\n",
    "    x *= 255.\n",
    "    x = np.clip(x,0,255).astype('uint8')\n",
    "    return x"
   ]
  },
  {
   "cell_type": "code",
   "execution_count": 72,
   "metadata": {},
   "outputs": [
    {
     "name": "stdout",
     "output_type": "stream",
     "text": [
      "Processing image shape (304, 459)\n",
      "...Loss value at 0 : 0.0031241947\n",
      "...Loss value at 1 : 0.012584522\n",
      "...Loss value at 2 : 0.027620535\n",
      "...Loss value at 3 : 0.045795303\n",
      "...Loss value at 4 : 0.064832695\n",
      "...Loss value at 5 : 0.08225382\n",
      "...Loss value at 6 : 0.101717114\n",
      "...Loss value at 7 : 0.12062002\n",
      "...Loss value at 8 : 0.13635248\n",
      "...Loss value at 9 : 0.15535337\n",
      "...Loss value at 10 : 0.17133059\n",
      "...Loss value at 11 : 0.18912937\n",
      "...Loss value at 12 : 0.20299397\n",
      "...Loss value at 13 : 0.21937685\n",
      "...Loss value at 14 : 0.23451394\n",
      "...Loss value at 15 : 0.2485198\n",
      "...Loss value at 16 : 0.2642999\n",
      "...Loss value at 17 : 0.2795529\n",
      "...Loss value at 18 : 0.2924939\n",
      "...Loss value at 19 : 0.30471438\n",
      "Processing image shape (426, 642)\n",
      "...Loss value at 0 : 0.029338144\n",
      "...Loss value at 1 : 0.06388867\n",
      "...Loss value at 2 : 0.0922939\n",
      "...Loss value at 3 : 0.11656547\n",
      "...Loss value at 4 : 0.13966724\n",
      "...Loss value at 5 : 0.16231743\n",
      "...Loss value at 6 : 0.18345\n",
      "...Loss value at 7 : 0.20384581\n",
      "...Loss value at 8 : 0.22422348\n",
      "...Loss value at 9 : 0.24200067\n",
      "...Loss value at 10 : 0.2596502\n",
      "...Loss value at 11 : 0.27785498\n",
      "...Loss value at 12 : 0.29336283\n",
      "...Loss value at 13 : 0.31073198\n",
      "...Loss value at 14 : 0.32529578\n",
      "...Loss value at 15 : 0.33962312\n",
      "...Loss value at 16 : 0.35591197\n",
      "...Loss value at 17 : 0.36919066\n",
      "...Loss value at 18 : 0.3849626\n",
      "...Loss value at 19 : 0.39746568\n",
      "Processing image shape (597, 900)\n",
      "...Loss value at 0 : 0.030116992\n",
      "...Loss value at 1 : 0.06607331\n",
      "...Loss value at 2 : 0.09591385\n",
      "...Loss value at 3 : 0.12047858\n",
      "...Loss value at 4 : 0.1438135\n",
      "...Loss value at 5 : 0.16586751\n",
      "...Loss value at 6 : 0.18695381\n",
      "...Loss value at 7 : 0.20658565\n",
      "...Loss value at 8 : 0.2260293\n",
      "...Loss value at 9 : 0.2439365\n",
      "...Loss value at 10 : 0.2608802\n",
      "...Loss value at 11 : 0.27824003\n",
      "...Loss value at 12 : 0.29494536\n",
      "...Loss value at 13 : 0.31181806\n",
      "...Loss value at 14 : 0.32711682\n",
      "...Loss value at 15 : 0.34200042\n",
      "...Loss value at 16 : 0.35647056\n",
      "...Loss value at 17 : 0.37069547\n",
      "...Loss value at 18 : 0.38444722\n",
      "...Loss value at 19 : 0.39771813\n"
     ]
    }
   ],
   "source": [
    "\n",
    "\n",
    "\n",
    "step = 0.01\n",
    "num_octave = 3\n",
    "octave_scale = 1.4\n",
    "iterations = 20\n",
    "\n",
    "max_loss = 10\n",
    "\n",
    "base_image_path = r'C:\\Users\\natsc\\Desktop\\machine_learning\\deeplearningwithpython\\img\\city_image.jpg'\n",
    "\n",
    "img = preproccess_image(base_image_path)\n",
    "\n",
    "original_shape = img.shape[1:3]\n",
    "successive_shapes = [original_shape]\n",
    "for i in range(1, num_octave):\n",
    "    shape = tuple([int(dim / (octave_scale ** i))\n",
    "        for dim in original_shape])\n",
    "    successive_shapes.append(shape)\n",
    "\n",
    "successive_shapes = successive_shapes[::-1]\n",
    "\n",
    "original_img = np.copy(img)\n",
    "shrunk_original_img = resize_img(img,successive_shapes[0])\n",
    "\n",
    "for shape in successive_shapes:\n",
    "    print('Processing image shape', shape)\n",
    "    img = resize_img(img, shape)\n",
    "    img = gradient_ascent(img,\n",
    "                        iterations=iterations,\n",
    "                        step=step,\n",
    "                        max_loss=max_loss)\n",
    "    upscaled_shrunk_original_img = resize_img(shrunk_original_img, shape)\n",
    "    same_size_original = resize_img(original_img, shape)\n",
    "    lost_detail = same_size_original - upscaled_shrunk_original_img\n",
    "\n",
    "    img += lost_detail\n",
    "    shrunk_original_img = resize_img(original_img, shape)\n",
    "    save_img(img, fname='dream_at_scale' + str(shape) + '.png')\n",
    "\n",
    "\n",
    "save_img(img, fname='final_dream.png')\n"
   ]
  }
 ],
 "metadata": {
  "kernelspec": {
   "display_name": "Python 3.10.2 64-bit",
   "language": "python",
   "name": "python3"
  },
  "language_info": {
   "codemirror_mode": {
    "name": "ipython",
    "version": 3
   },
   "file_extension": ".py",
   "mimetype": "text/x-python",
   "name": "python",
   "nbconvert_exporter": "python",
   "pygments_lexer": "ipython3",
   "version": "3.10.2"
  },
  "orig_nbformat": 4,
  "vscode": {
   "interpreter": {
    "hash": "1c2641756001ea6ce447138a89df8e611a3b26f782a153d65a0ab6bf1cb80700"
   }
  }
 },
 "nbformat": 4,
 "nbformat_minor": 2
}
